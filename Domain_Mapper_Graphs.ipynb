{
 "cells": [
  {
   "cell_type": "code",
   "execution_count": 2,
   "metadata": {},
   "outputs": [],
   "source": [
    "import numpy as np\n",
    "import scipy.stats\n",
    "\n",
    "import matplotlib.pyplot as plt"
   ]
  },
  {
   "cell_type": "code",
   "execution_count": 3,
   "metadata": {},
   "outputs": [
    {
     "ename": "FileNotFoundError",
     "evalue": "[Errno 2] No such file or directory: 'human_nc_dmpr.npy'",
     "output_type": "error",
     "traceback": [
      "\u001b[0;31m---------------------------------------------------------------------------\u001b[0m",
      "\u001b[0;31mFileNotFoundError\u001b[0m                         Traceback (most recent call last)",
      "\u001b[0;32m/var/folders/4q/g4jrw97j6_b_h0sl9s6yp95h0000gn/T/ipykernel_61406/4224976104.py\u001b[0m in \u001b[0;36m<module>\u001b[0;34m\u001b[0m\n\u001b[1;32m      1\u001b[0m \u001b[0;31m# These files must be generated with Domain_Data_Annotator.py\u001b[0m\u001b[0;34m\u001b[0m\u001b[0;34m\u001b[0m\u001b[0m\n\u001b[1;32m      2\u001b[0m \u001b[0;34m\u001b[0m\u001b[0m\n\u001b[0;32m----> 3\u001b[0;31m \u001b[0mmpr_nc_data\u001b[0m \u001b[0;34m=\u001b[0m \u001b[0mnp\u001b[0m\u001b[0;34m.\u001b[0m\u001b[0mload\u001b[0m\u001b[0;34m(\u001b[0m\u001b[0;34m\"human_nc_dmpr.npy\"\u001b[0m\u001b[0;34m,\u001b[0m \u001b[0mallow_pickle\u001b[0m\u001b[0;34m=\u001b[0m\u001b[0;32mTrue\u001b[0m\u001b[0;34m)\u001b[0m\u001b[0;34m\u001b[0m\u001b[0;34m\u001b[0m\u001b[0m\n\u001b[0m\u001b[1;32m      4\u001b[0m \u001b[0mmpr_ib_data\u001b[0m \u001b[0;34m=\u001b[0m \u001b[0mnp\u001b[0m\u001b[0;34m.\u001b[0m\u001b[0mload\u001b[0m\u001b[0;34m(\u001b[0m\u001b[0;34m\"human_ib_dmpr.npy\"\u001b[0m\u001b[0;34m,\u001b[0m \u001b[0mallow_pickle\u001b[0m\u001b[0;34m=\u001b[0m\u001b[0;32mTrue\u001b[0m\u001b[0;34m)\u001b[0m\u001b[0;34m\u001b[0m\u001b[0;34m\u001b[0m\u001b[0m\n\u001b[1;32m      5\u001b[0m \u001b[0mmpr_dec_data\u001b[0m \u001b[0;34m=\u001b[0m \u001b[0mnp\u001b[0m\u001b[0;34m.\u001b[0m\u001b[0mload\u001b[0m\u001b[0;34m(\u001b[0m\u001b[0;34m\"human_dec_nc_dmpr.npy\"\u001b[0m\u001b[0;34m,\u001b[0m \u001b[0mallow_pickle\u001b[0m\u001b[0;34m=\u001b[0m\u001b[0;32mTrue\u001b[0m\u001b[0;34m)\u001b[0m\u001b[0;34m\u001b[0m\u001b[0;34m\u001b[0m\u001b[0m\n",
      "\u001b[0;32m/opt/homebrew/lib/python3.9/site-packages/numpy/lib/npyio.py\u001b[0m in \u001b[0;36mload\u001b[0;34m(file, mmap_mode, allow_pickle, fix_imports, encoding)\u001b[0m\n\u001b[1;32m    405\u001b[0m             \u001b[0mown_fid\u001b[0m \u001b[0;34m=\u001b[0m \u001b[0;32mFalse\u001b[0m\u001b[0;34m\u001b[0m\u001b[0;34m\u001b[0m\u001b[0m\n\u001b[1;32m    406\u001b[0m         \u001b[0;32melse\u001b[0m\u001b[0;34m:\u001b[0m\u001b[0;34m\u001b[0m\u001b[0;34m\u001b[0m\u001b[0m\n\u001b[0;32m--> 407\u001b[0;31m             \u001b[0mfid\u001b[0m \u001b[0;34m=\u001b[0m \u001b[0mstack\u001b[0m\u001b[0;34m.\u001b[0m\u001b[0menter_context\u001b[0m\u001b[0;34m(\u001b[0m\u001b[0mopen\u001b[0m\u001b[0;34m(\u001b[0m\u001b[0mos_fspath\u001b[0m\u001b[0;34m(\u001b[0m\u001b[0mfile\u001b[0m\u001b[0;34m)\u001b[0m\u001b[0;34m,\u001b[0m \u001b[0;34m\"rb\"\u001b[0m\u001b[0;34m)\u001b[0m\u001b[0;34m)\u001b[0m\u001b[0;34m\u001b[0m\u001b[0;34m\u001b[0m\u001b[0m\n\u001b[0m\u001b[1;32m    408\u001b[0m             \u001b[0mown_fid\u001b[0m \u001b[0;34m=\u001b[0m \u001b[0;32mTrue\u001b[0m\u001b[0;34m\u001b[0m\u001b[0;34m\u001b[0m\u001b[0m\n\u001b[1;32m    409\u001b[0m \u001b[0;34m\u001b[0m\u001b[0m\n",
      "\u001b[0;31mFileNotFoundError\u001b[0m: [Errno 2] No such file or directory: 'human_nc_dmpr.npy'"
     ]
    }
   ],
   "source": [
    "# These files must be generated with Domain_Data_Annotator.py\n",
    "\n",
    "mpr_nc_data = np.load(\"human_nc_dmpr.npy\", allow_pickle=True)\n",
    "mpr_ib_data = np.load(\"human_ib_dmpr.npy\", allow_pickle=True)\n",
    "mpr_dec_data = np.load(\"human_dec_nc_dmpr.npy\", allow_pickle=True)\n",
    "\n",
    "com_nc_data = np.load(\"human_nc_dcom.npy\", allow_pickle=True)\n",
    "com_ib_data = np.load(\"human_ib_dcom.npy\", allow_pickle=True)\n",
    "com_dec_data = np.load(\"human_dec_nc_dcom.npy\", allow_pickle=True)\n",
    "\n",
    "commpr_nc_data = np.load(\"human_nc_dcomdmpr.npy\", allow_pickle=True)\n",
    "commpr_ib_data = np.load(\"human_ib_dcomdmpr.npy\", allow_pickle=True)\n",
    "commpr_dec_data = np.load(\"human_dec_nc_dcomdmpr.npy\", allow_pickle=True)"
   ]
  },
  {
   "cell_type": "code",
   "execution_count": 4,
   "metadata": {},
   "outputs": [
    {
     "ename": "NameError",
     "evalue": "name 'mpr_nc_data' is not defined",
     "output_type": "error",
     "traceback": [
      "\u001b[0;31m---------------------------------------------------------------------------\u001b[0m",
      "\u001b[0;31mNameError\u001b[0m                                 Traceback (most recent call last)",
      "\u001b[0;32m/var/folders/4q/g4jrw97j6_b_h0sl9s6yp95h0000gn/T/ipykernel_61406/2096555374.py\u001b[0m in \u001b[0;36m<module>\u001b[0;34m\u001b[0m\n\u001b[1;32m     13\u001b[0m \u001b[0mfig\u001b[0m\u001b[0;34m,\u001b[0m \u001b[0;34m(\u001b[0m\u001b[0max1\u001b[0m\u001b[0;34m,\u001b[0m \u001b[0max2\u001b[0m\u001b[0;34m,\u001b[0m \u001b[0max3\u001b[0m\u001b[0;34m)\u001b[0m \u001b[0;34m=\u001b[0m \u001b[0mplt\u001b[0m\u001b[0;34m.\u001b[0m\u001b[0msubplots\u001b[0m\u001b[0;34m(\u001b[0m\u001b[0;36m3\u001b[0m\u001b[0;34m,\u001b[0m\u001b[0mfigsize\u001b[0m\u001b[0;34m=\u001b[0m\u001b[0;34m(\u001b[0m\u001b[0;36m7\u001b[0m\u001b[0;34m,\u001b[0m\u001b[0;36m8\u001b[0m\u001b[0;34m)\u001b[0m\u001b[0;34m)\u001b[0m\u001b[0;34m\u001b[0m\u001b[0;34m\u001b[0m\u001b[0m\n\u001b[1;32m     14\u001b[0m \u001b[0;34m\u001b[0m\u001b[0m\n\u001b[0;32m---> 15\u001b[0;31m \u001b[0max1\u001b[0m\u001b[0;34m.\u001b[0m\u001b[0mhist\u001b[0m\u001b[0;34m(\u001b[0m\u001b[0mmpr_nc_data\u001b[0m\u001b[0;34m,\u001b[0m \u001b[0mbins\u001b[0m\u001b[0;34m=\u001b[0m\u001b[0;36m50\u001b[0m\u001b[0;34m,\u001b[0m \u001b[0mdensity\u001b[0m\u001b[0;34m=\u001b[0m\u001b[0;32mTrue\u001b[0m\u001b[0;34m,\u001b[0m \u001b[0malpha\u001b[0m\u001b[0;34m=\u001b[0m\u001b[0;36m0.6\u001b[0m\u001b[0;34m,\u001b[0m \u001b[0mcolor\u001b[0m\u001b[0;34m=\u001b[0m\u001b[0;34m\"b\"\u001b[0m\u001b[0;34m,\u001b[0m \u001b[0mrange\u001b[0m\u001b[0;34m=\u001b[0m\u001b[0;34m(\u001b[0m\u001b[0;36m0\u001b[0m\u001b[0;34m,\u001b[0m\u001b[0;36m500\u001b[0m\u001b[0;34m)\u001b[0m\u001b[0;34m,\u001b[0m \u001b[0mhisttype\u001b[0m\u001b[0;34m=\u001b[0m\u001b[0;34m\"stepfilled\"\u001b[0m\u001b[0;34m)\u001b[0m\u001b[0;34m\u001b[0m\u001b[0;34m\u001b[0m\u001b[0m\n\u001b[0m\u001b[1;32m     16\u001b[0m \u001b[0max1\u001b[0m\u001b[0;34m.\u001b[0m\u001b[0mhist\u001b[0m\u001b[0;34m(\u001b[0m\u001b[0mmpr_ib_data\u001b[0m\u001b[0;34m,\u001b[0m \u001b[0mbins\u001b[0m\u001b[0;34m=\u001b[0m\u001b[0;36m50\u001b[0m\u001b[0;34m,\u001b[0m \u001b[0mdensity\u001b[0m\u001b[0;34m=\u001b[0m\u001b[0;32mTrue\u001b[0m\u001b[0;34m,\u001b[0m \u001b[0malpha\u001b[0m\u001b[0;34m=\u001b[0m\u001b[0;36m0.6\u001b[0m\u001b[0;34m,\u001b[0m \u001b[0mcolor\u001b[0m\u001b[0;34m=\u001b[0m\u001b[0;34m\"r\"\u001b[0m\u001b[0;34m,\u001b[0m \u001b[0mrange\u001b[0m\u001b[0;34m=\u001b[0m\u001b[0;34m(\u001b[0m\u001b[0;36m0\u001b[0m\u001b[0;34m,\u001b[0m\u001b[0;36m500\u001b[0m\u001b[0;34m)\u001b[0m\u001b[0;34m,\u001b[0m \u001b[0mhisttype\u001b[0m\u001b[0;34m=\u001b[0m\u001b[0;34m\"stepfilled\"\u001b[0m\u001b[0;34m)\u001b[0m\u001b[0;34m\u001b[0m\u001b[0;34m\u001b[0m\u001b[0m\n\u001b[1;32m     17\u001b[0m \u001b[0max1\u001b[0m\u001b[0;34m.\u001b[0m\u001b[0mhist\u001b[0m\u001b[0;34m(\u001b[0m\u001b[0mmpr_dec_data\u001b[0m\u001b[0;34m,\u001b[0m \u001b[0mbins\u001b[0m\u001b[0;34m=\u001b[0m\u001b[0;36m50\u001b[0m\u001b[0;34m,\u001b[0m \u001b[0mdensity\u001b[0m\u001b[0;34m=\u001b[0m\u001b[0;32mTrue\u001b[0m\u001b[0;34m,\u001b[0m \u001b[0malpha\u001b[0m\u001b[0;34m=\u001b[0m\u001b[0;36m1\u001b[0m\u001b[0;34m,\u001b[0m \u001b[0mcolor\u001b[0m\u001b[0;34m=\u001b[0m\u001b[0;34m\"k\"\u001b[0m\u001b[0;34m,\u001b[0m \u001b[0mrange\u001b[0m\u001b[0;34m=\u001b[0m\u001b[0;34m(\u001b[0m\u001b[0;36m0\u001b[0m\u001b[0;34m,\u001b[0m\u001b[0;36m500\u001b[0m\u001b[0;34m)\u001b[0m\u001b[0;34m,\u001b[0m \u001b[0mhisttype\u001b[0m\u001b[0;34m=\u001b[0m\u001b[0;34m\"step\"\u001b[0m\u001b[0;34m,\u001b[0m \u001b[0mlinewidth\u001b[0m\u001b[0;34m=\u001b[0m\u001b[0;36m2\u001b[0m\u001b[0;34m)\u001b[0m\u001b[0;34m\u001b[0m\u001b[0;34m\u001b[0m\u001b[0m\n",
      "\u001b[0;31mNameError\u001b[0m: name 'mpr_nc_data' is not defined"
     ]
    },
    {
     "data": {
      "image/png": "[encoded data removed]",
      "text/plain": [
       "<Figure size 504x576 with 3 Axes>"
      ]
     },
     "metadata": {
      "needs_background": "light"
     },
     "output_type": "display_data"
    }
   ],
   "source": [
    "font = {'family' : 'arial',\n",
    "        'weight' : 'regular',\n",
    "        'size'   : 16}\n",
    "\n",
    "plt.rc('font', **font)\n",
    "plt.rc('axes', linewidth=1.5)\n",
    "plt.rc('xtick.major', width = 1.5, size=5.5)\n",
    "plt.rc('ytick.major', width = 1.5, size=5.5)\n",
    "plt.rc('ytick.minor', width = 1.5, size=2.3)\n",
    "\n",
    "plt.rcParams['svg.fonttype'] = 'none'\n",
    "\n",
    "fig, (ax1, ax2, ax3) = plt.subplots(3,figsize=(7,8))\n",
    "\n",
    "ax1.hist(mpr_nc_data, bins=50, density=True, alpha=0.6, color=\"b\", range=(0,500), histtype=\"stepfilled\")\n",
    "ax1.hist(mpr_ib_data, bins=50, density=True, alpha=0.6, color=\"r\", range=(0,500), histtype=\"stepfilled\")\n",
    "ax1.hist(mpr_dec_data, bins=50, density=True, alpha=1, color=\"k\", range=(0,500), histtype=\"step\", linewidth=2)\n",
    "ax1.set_xlim([0,500]); ax1.set_ylim([0,0.025])\n",
    "ax1.set_xticks([0,100,200,300,400,500]); ax1.set_yticks([0,0.005, 0.01, 0.015, 0.02, 0.025])\n",
    "ax1.set_yticklabels([0,5, 10, 15, 20, 25])\n",
    "ax1.axvline(med_1 := np.median([n for n in mpr_nc_data if n<500]),color=\"b\",alpha=0.6)\n",
    "ax1.axvline(med_2 := np.median([n for n in mpr_ib_data if n<500]),color=\"r\",alpha=0.6)\n",
    "ax1.axvline(med_3 := np.median([n for n in mpr_dec_data if n<500]),color=\"k\",alpha=0.6)\n",
    "\n",
    "ax1.set_xlabel(\"\\u0394MPR / Residues\", family=\"arial\")\n",
    "ax1.set_ylabel(\"PDF\", family=\"arial\")\n",
    "\n",
    "std_1 = np.std(mpr_nc_data, axis=0)\n",
    "std_2 = np.std(mpr_ib_data, axis=0)\n",
    "std_3 = np.std(mpr_dec_data, axis=0)\n",
    "\n",
    "print(f\"MPR Medians :: \"+ f\"NC: {med_1:4.4f} +/- {std_1:4.4f}, IB: {med_2:4.4f} +/- {std_2:4.4f}, DEC: {med_3:4.4f} +/- {std_3:4.4f}\")\n",
    "\n",
    "ax2.hist(com_nc_data, bins=50, density=True, alpha=0.6, color=\"b\", range=(0,70), histtype=\"stepfilled\")\n",
    "ax2.hist(com_ib_data, bins=50, density=True, alpha=0.6, color=\"r\", range=(0,70), histtype=\"stepfilled\")\n",
    "ax2.hist(com_dec_data, bins=50, density=True, alpha=1, color=\"k\", range=(0,70), histtype=\"step\", linewidth=2)\n",
    "ax2.set_xlim([0,70]); ax2.set_ylim([0,0.1])\n",
    "ax2.set_xticks([0,10,20,30,40,50,60,70]); ax2.set_yticks([0,0.025, 0.05, 0.075, 0.1])\n",
    "ax2.set_yticklabels([0,25,50,75,100])\n",
    "ax2.axvline(med_1 := np.median([n for n in com_nc_data if n<70]),color=\"b\",alpha=0.6)\n",
    "ax2.axvline(med_2 := np.median([n for n in com_ib_data if n<70]),color=\"r\",alpha=0.6)\n",
    "ax2.axvline(med_3 := np.median([n for n in com_dec_data if n<70]),color=\"k\",alpha=0.6)\n",
    "ax2.set_xlabel(\"\\u0394COM / Å\", family=\"arial\")\n",
    "ax2.set_ylabel(\"PDF\", family=\"arial\")\n",
    "\n",
    "std_1 = np.std(com_nc_data, axis=0)\n",
    "std_2 = np.std(com_ib_data, axis=0)\n",
    "std_3 = np.std(com_dec_data, axis=0)\n",
    "\n",
    "print(f\"COM Medians :: \"+ f\"NC: {med_1:4.4f} +/- {std_1:4.4f}, IB: {med_2:4.4f} +/- {std_2:4.4f}, DEC: {med_3:4.4f} +/- {std_3:4.4f}\")\n",
    "\n",
    "\n",
    "ax3.hist(commpr_nc_data, bins=50, density=True, alpha=0.6, color=\"b\", range=(0,1), histtype=\"stepfilled\")\n",
    "ax3.hist(commpr_ib_data, bins=50, density=True, alpha=0.6, color=\"r\", range=(0,1), histtype=\"stepfilled\")\n",
    "ax3.hist(commpr_dec_data, bins=50, density=True, alpha=1, color=\"k\", range=(0,1), histtype=\"step\", linewidth=2)\n",
    "ax3.set_xlim([0,1.]); ax3.set_ylim([0,8])\n",
    "ax3.set_xticks([0,.2,.4,.6,.8,1.]);  ax3.set_yticks([0,2,4,6,8])\n",
    "ax3.axvline(med_1 := np.median([n for n in commpr_nc_data if n<1]),color=\"b\",alpha=0.6)\n",
    "ax3.axvline(med_2 := np.median([n for n in commpr_ib_data if n<1]),color=\"r\",alpha=0.6)\n",
    "ax3.axvline(med_3 := np.median([n for n in commpr_dec_data if n<1]),color=\"k\",alpha=0.6)\n",
    "ax3.set_xlabel(\"\\u0394COM/\\u0394MPR / Å per Residue\", family=\"arial\")\n",
    "ax3.set_ylabel(\"PDF\", family=\"arial\")\n",
    "\n",
    "std_1 = np.std(commpr_nc_data, axis=0)\n",
    "std_2 = np.std(commpr_ib_data, axis=0)\n",
    "std_3 = np.std(commpr_dec_data, axis=0)\n",
    "\n",
    "print(f\"COMMPR Medians :: \"+ f\"NC: {med_1:4.4f} +/- {std_1:4.4f}, IB: {med_2:4.4f} +/- {std_2:4.4f}, DEC: {med_3:4.4f} +/- {std_3:4.4f}\")\n",
    "ax1.set_box_aspect(1/2.5)\n",
    "ax2.set_box_aspect(1/2.5)\n",
    "ax3.set_box_aspect(1/2.5)\n",
    "\n",
    "fig.tight_layout()\n",
    "# fig.savefig(fname=\"COMMPR_HUMAN.svg\")\n",
    "scipy.stats.mannwhitneyu(commpr_nc_data, commpr_dec_data)\n"
   ]
  },
  {
   "cell_type": "code",
   "execution_count": 5,
   "metadata": {},
   "outputs": [],
   "source": [
    "mpr_nc_data = np.load(\"yeast_nc_dmpr.npy\", allow_pickle=True)\n",
    "mpr_ib_data = np.load(\"yeast_ib_dmpr.npy\", allow_pickle=True)\n",
    "mpr_dec_data = np.load(\"yeast_dec_nc_dmpr.npy\", allow_pickle=True)\n",
    "\n",
    "com_nc_data = np.load(\"yeast_nc_dcom.npy\", allow_pickle=True)\n",
    "com_ib_data = np.load(\"yeast_ib_dcom.npy\", allow_pickle=True)\n",
    "com_dec_data = np.load(\"yeast_dec_nc_dcom.npy\", allow_pickle=True)\n",
    "\n",
    "commpr_nc_data = np.load(\"yeast_nc_dcomdmpr.npy\", allow_pickle=True)\n",
    "commpr_ib_data = np.load(\"yeast_ib_dcomdmpr.npy\", allow_pickle=True)\n",
    "commpr_dec_data = np.load(\"yeast_dec_nc_dcomdmpr.npy\", allow_pickle=True)"
   ]
  },
  {
   "cell_type": "code",
   "execution_count": 6,
   "metadata": {},
   "outputs": [
    {
     "name": "stdout",
     "output_type": "stream",
     "text": [
      "MPR Medians :: NC: 160.0000, IB: 76.0000, DEC: 60.0000\n",
      "COM Medians :: NC: 16.9614, IB: 26.9177, DEC: 12.6307\n",
      "COMMPR Medians :: NC: 0.1052, IB: 0.3345, DEC: 0.1941\n"
     ]
    },
    {
     "data": {
      "image/png": "[encoded data removed]",
      "text/plain": [
       "<Figure size 504x576 with 3 Axes>"
      ]
     },
     "metadata": {
      "needs_background": "light"
     },
     "output_type": "display_data"
    }
   ],
   "source": [
    "font = {'family' : 'arial',\n",
    "        'weight' : 'regular',\n",
    "        'size'   : 16}\n",
    "\n",
    "plt.rc('font', **font)\n",
    "plt.rc('axes', linewidth=1.5)\n",
    "plt.rc('xtick.major', width = 1.5, size=5.5)\n",
    "plt.rc('ytick.major', width = 1.5, size=5.5)\n",
    "plt.rc('ytick.minor', width = 1.5, size=2.3)\n",
    "\n",
    "plt.rcParams['svg.fonttype'] = 'none'\n",
    "\n",
    "fig, (ax1, ax2, ax3) = plt.subplots(3,figsize=(7,8))\n",
    "\n",
    "ax1.hist(mpr_nc_data, bins=50, density=True, alpha=0.6, color=\"b\", range=(0,500), histtype=\"stepfilled\")\n",
    "ax1.hist(mpr_ib_data, bins=50, density=True, alpha=0.6, color=\"r\", range=(0,500), histtype=\"stepfilled\")\n",
    "ax1.hist(mpr_dec_data, bins=50, density=True, alpha=1, color=\"k\", range=(0,500), histtype=\"step\", linewidth=2)\n",
    "ax1.set_xlim([0,500]); ax1.set_ylim([0,0.015])\n",
    "ax1.set_xticks([0,100,200,300,400,500]); ax1.set_yticks([0,0.005, 0.01, 0.015])\n",
    "ax1.set_yticklabels([0,5, 10, 15])\n",
    "ax1.axvline(med_1 := np.median([n for n in mpr_nc_data if n<500]),color=\"b\",alpha=0.6)\n",
    "ax1.axvline(med_2 := np.median([n for n in mpr_ib_data if n<500]),color=\"r\",alpha=0.6)\n",
    "ax1.axvline(med_3 := np.median([n for n in mpr_dec_data if n<500]),color=\"k\",alpha=0.6)\n",
    "ax1.set_xlabel(\"\\u0394MPR / Residues\", family=\"arial\")\n",
    "ax1.set_ylabel(\"PDF\", family=\"arial\")\n",
    "\n",
    "print(f\"MPR Medians :: \"+ f\"NC: {med_1:4.4f}, IB: {med_2:4.4f}, DEC: {med_3:4.4f}\")\n",
    "\n",
    "\n",
    "ax2.hist(com_nc_data, bins=50, density=True, alpha=0.6, color=\"b\", range=(0,70), histtype=\"stepfilled\")\n",
    "ax2.hist(com_ib_data, bins=50, density=True, alpha=0.6, color=\"r\", range=(0,70), histtype=\"stepfilled\")\n",
    "ax2.hist(com_dec_data, bins=50, density=True, alpha=1, color=\"k\", range=(0,70), histtype=\"step\", linewidth=2)\n",
    "ax2.set_xlim([0,70]); ax2.set_ylim([0,0.1])\n",
    "ax2.set_xticks([0,10,20,30,40,50,60,70]); ax2.set_yticks([0,0.025, 0.05, 0.075, 0.1])\n",
    "ax2.set_yticklabels([0,25,50,75,100])\n",
    "ax2.axvline(med_1 := np.median([n for n in com_nc_data if n<70]),color=\"b\",alpha=0.6)\n",
    "ax2.axvline(med_2 := np.median([n for n in com_ib_data if n<70]),color=\"r\",alpha=0.6)\n",
    "ax2.axvline(med_3 := np.median([n for n in com_dec_data if n<70]),color=\"k\",alpha=0.6)\n",
    "ax2.set_xlabel(\"\\u0394COM / Å\", family=\"arial\")\n",
    "ax2.set_ylabel(\"PDF\", family=\"arial\")\n",
    "\n",
    "print(f\"COM Medians :: \"+ f\"NC: {med_1:4.4f}, IB: {med_2:4.4f}, DEC: {med_3:4.4f}\")\n",
    "\n",
    "ax3.hist(commpr_nc_data, bins=50, density=True, alpha=0.6, color=\"b\", range=(0,1), histtype=\"stepfilled\")\n",
    "ax3.hist(commpr_ib_data, bins=50, density=True, alpha=0.6, color=\"r\", range=(0,1), histtype=\"stepfilled\")\n",
    "ax3.hist(commpr_dec_data, bins=50, density=True, alpha=1, color=\"k\", range=(0,1), histtype=\"step\", linewidth=2)\n",
    "ax3.set_xlim([0,1.]); ax3.set_ylim([0,8])\n",
    "ax3.set_xticks([0,.2,.4,.6,.8,1.]);  ax3.set_yticks([0,2,4,6,8])\n",
    "ax3.axvline(med_1 := np.median([n for n in commpr_nc_data if n<1]),color=\"b\",alpha=0.6)\n",
    "ax3.axvline(med_2 := np.median([n for n in commpr_ib_data if n<1]),color=\"r\",alpha=0.6)\n",
    "ax3.axvline(med_3 := np.median([n for n in commpr_dec_data if n<1]),color=\"k\",alpha=0.6)\n",
    "ax3.set_xlabel(\"\\u0394COM/\\u0394MPR / Å per Residue\", family=\"arial\")\n",
    "ax3.set_ylabel(\"PDF\", family=\"arial\")\n",
    "\n",
    "print(f\"COMMPR Medians :: \"+ f\"NC: {med_1:4.4f}, IB: {med_2:4.4f}, DEC: {med_3:4.4f}\")\n",
    "\n",
    "ax1.set_box_aspect(1/2.5)\n",
    "ax2.set_box_aspect(1/2.5)\n",
    "ax3.set_box_aspect(1/2.5)\n",
    "\n",
    "fig.tight_layout()\n",
    "\n",
    "# fig.savefig(fname=\"COMMPR_YEAST.svg\")"
   ]
  },
  {
   "cell_type": "code",
   "execution_count": 7,
   "metadata": {},
   "outputs": [],
   "source": [
    "human_con_rg = np.load(\"human_con_Rg.npy\", allow_pickle=True)\n",
    "human_nc_rg = np.load(\"human_nc_Rg.npy\", allow_pickle=True)"
   ]
  },
  {
   "cell_type": "code",
   "execution_count": 8,
   "metadata": {},
   "outputs": [
    {
     "name": "stdout",
     "output_type": "stream",
     "text": [
      "0.09666880405197524 0.16006302360801186\n"
     ]
    },
    {
     "data": {
      "image/png": "[encoded data removed]",
      "text/plain": [
       "<Figure size 360x360 with 1 Axes>"
      ]
     },
     "metadata": {
      "needs_background": "light"
     },
     "output_type": "display_data"
    }
   ],
   "source": [
    "font = {'family' : 'arial',\n",
    "        'weight' : 'regular',\n",
    "        'size'   : 16}\n",
    "\n",
    "plt.rc('font', **font)\n",
    "plt.rc('axes', linewidth=1.5)\n",
    "plt.rc('xtick.major', width = 1.5, size=5.5)\n",
    "plt.rc('ytick.major', width = 1.5, size=5.5)\n",
    "plt.rc('ytick.minor', width = 1.5, size=2.3)\n",
    "\n",
    "plt.rcParams['svg.fonttype'] = 'none'\n",
    "\n",
    "fig, (ax1) = plt.subplots(1,figsize=(5,5))\n",
    "\n",
    "ax1.hist(human_nc_rg, bins=50, density=True, alpha=0.6, color=\"b\", range=(0,1), histtype=\"stepfilled\")\n",
    "ax1.hist(human_con_rg, bins=50, density=True, alpha=0.3, color=\"k\", range=(0,1), histtype=\"stepfilled\")\n",
    "ax1.hist(human_con_rg, bins=50, density=True, alpha=1, color=\"k\", range=(0,1), histtype=\"step\", linewidth = 1.5)\n",
    "ax1.set_xlim([0,0.6]); ax1.set_ylim([0,15])\n",
    "ax1.set_xticks([0,.1,.2,.3,.4,.5,.6])\n",
    "ax1.set_yticks([0,5,10,15])\n",
    "ax1.axvline(med_1 := np.median([n for n in human_nc_rg if n<1]),color=\"b\",alpha=0.6)\n",
    "ax1.axvline(med_3 := np.median([n for n in human_con_rg if n<1]),color=\"k\",alpha=0.6)\n",
    "\n",
    "ax1.set_xlabel(\"Rg/N / Å per Residue\", family=\"arial\")\n",
    "ax1.set_ylabel(\"PDF\", family=\"arial\")\n",
    "\n",
    "ax1.set_box_aspect(1)\n",
    "\n",
    "# fig.savefig(fname=\"RG_HUMAN.svg\")\n",
    "print(f\"Rg/N Medians :: \"+ f\"NC: {med_1:4.4f}, CON: {med_3:4.4f}\")\n"
   ]
  },
  {
   "cell_type": "code",
   "execution_count": 9,
   "metadata": {},
   "outputs": [
    {
     "data": {
      "text/plain": [
       "MannwhitneyuResult(statistic=14804902.0, pvalue=0.0)"
      ]
     },
     "execution_count": 9,
     "metadata": {},
     "output_type": "execute_result"
    }
   ],
   "source": [
    "scipy.stats.mannwhitneyu(human_nc_rg, human_con_rg)"
   ]
  },
  {
   "cell_type": "code",
   "execution_count": 10,
   "metadata": {},
   "outputs": [],
   "source": [
    "yeast_con_rg = np.load(\"yeast_con_Rg.npy\", allow_pickle=True)\n",
    "yeast_nc_rg = np.load(\"yeast_nc_Rg.npy\", allow_pickle=True)\n",
    "\n",
    "yeast_cg3d_con_rg = np.load(\"yeast_cg3d_con_Rg.npy\", allow_pickle=True)\n",
    "yeast_cg3d_nc_rg = np.load(\"yeast_cg3d_nc_Rg.npy\", allow_pickle=True)\n",
    "\n",
    "yeast_pfam_con_rg = np.load(\"yeast_pfam_con_Rg.npy\", allow_pickle=True)\n",
    "yeast_pfam_nc_rg = np.load(\"yeast_pfam_nc_Rg.npy\", allow_pickle=True)"
   ]
  },
  {
   "cell_type": "code",
   "execution_count": 11,
   "metadata": {},
   "outputs": [
    {
     "name": "stdout",
     "output_type": "stream",
     "text": [
      "0.08961734334361948 0.12791888738092105\n"
     ]
    },
    {
     "data": {
      "image/png": "[encoded data removed]",
      "text/plain": [
       "<Figure size 360x360 with 1 Axes>"
      ]
     },
     "metadata": {
      "needs_background": "light"
     },
     "output_type": "display_data"
    }
   ],
   "source": [
    "font = {'family' : 'arial',\n",
    "        'weight' : 'regular',\n",
    "        'size'   : 16}\n",
    "\n",
    "plt.rc('font', **font)\n",
    "plt.rc('axes', linewidth=1.5)\n",
    "plt.rc('xtick.major', width = 1.5, size=5.5)\n",
    "plt.rc('ytick.major', width = 1.5, size=5.5)\n",
    "plt.rc('ytick.minor', width = 1.5, size=2.3)\n",
    "\n",
    "plt.rcParams['svg.fonttype'] = 'none'\n",
    "\n",
    "fig, (ax1) = plt.subplots(1,figsize=(5,5))\n",
    "\n",
    "ax1.hist(yeast_nc_rg, bins=50, density=True, alpha=0.6, color=\"b\", range=(0,1), histtype=\"stepfilled\")\n",
    "ax1.hist(yeast_con_rg, bins=50, density=True, alpha=0.3, color=\"k\", range=(0,1), histtype=\"stepfilled\")\n",
    "ax1.hist(yeast_con_rg, bins=50, density=True, alpha=1, color=\"k\", range=(0,1), histtype=\"step\", linewidth = 1.5)\n",
    "ax1.set_xlim([0,0.6]); ax1.set_ylim([0,16])\n",
    "ax1.set_yticks([0,5,10,15])\n",
    "ax1.set_xticks([0,.1,.2,.3,.4,.5,.6])\n",
    "\n",
    "ax1.axvline(med_1 := np.median([n for n in yeast_nc_rg if n<1]),color=\"b\",alpha=0.6)\n",
    "ax1.axvline(med_3 := np.median([n for n in yeast_con_rg if n<1]),color=\"k\",alpha=0.6)\n",
    "\n",
    "ax1.set_xlabel(\"Rg/N / Å per Residue\", family=\"arial\")\n",
    "ax1.set_ylabel(\"PDF\", family=\"arial\")\n",
    "\n",
    "ax1.set_box_aspect(1)\n",
    "\n",
    "# fig.savefig(fname=\"RG_YEAST.svg\")\n",
    "print(f\"Rg/N Medians :: \"+ f\"NC: {med_1:4.4f}, CON: {med_3:4.4f}\")\n"
   ]
  },
  {
   "cell_type": "code",
   "execution_count": 12,
   "metadata": {},
   "outputs": [],
   "source": [
    "yeast_commpr_nc = np.load(\"yeast_nc_dcomdmpr.npy\", allow_pickle=True)\n",
    "yeast_cg3d_commpr_nc = np.load(\"yeast_cg3d_nc_dcomdmpr.npy\", allow_pickle=True)"
   ]
  },
  {
   "cell_type": "code",
   "execution_count": 13,
   "metadata": {},
   "outputs": [
    {
     "name": "stdout",
     "output_type": "stream",
     "text": [
      "0.10517498523513706 0.07988221515980802\n"
     ]
    },
    {
     "data": {
      "image/png": "[encoded data removed]",
      "text/plain": [
       "<Figure size 360x360 with 1 Axes>"
      ]
     },
     "metadata": {
      "needs_background": "light"
     },
     "output_type": "display_data"
    }
   ],
   "source": [
    "from matplotlib.patches import FancyArrow\n",
    "\n",
    "\n",
    "font = {'family' : 'arial',\n",
    "        'weight' : 'regular',\n",
    "        'size'   : 16}\n",
    "\n",
    "plt.rc('font', **font)\n",
    "plt.rc('axes', linewidth=1.5)\n",
    "plt.rc('xtick.major', width = 1.5, size=5.5)\n",
    "plt.rc('ytick.major', width = 1.5, size=5.5)\n",
    "plt.rc('ytick.minor', width = 1.5, size=2.3)\n",
    "\n",
    "plt.rcParams['svg.fonttype'] = 'none'\n",
    "\n",
    "fig, (ax1) = plt.subplots(1,figsize=(5,5))\n",
    "\n",
    "ax1.hist(yeast_commpr_nc, bins=50, density=True, alpha=0.6, color=\"b\", range=(0,1), histtype=\"stepfilled\")\n",
    "ax1.hist(yeast_cg3d_commpr_nc, bins=50, density=True, alpha=1, color=\"orange\", range=(0,1), histtype=\"step\", linewidth=3)\n",
    "ax1.set_xlim([0,0.6]); ax1.set_ylim([0,11])\n",
    "ax1.axvline(med_1 := np.median([n for n in yeast_commpr_nc if n<1]),color=\"b\",alpha=0.6)\n",
    "ax1.axvline(med_3 := np.median([n for n in yeast_cg3d_commpr_nc if n<1]),color=\"orange\",alpha=1)\n",
    "ax1.set_xlabel(\"\\u0394COM/\\u0394MPR / Å/Residues\")\n",
    "ax1.set_ylabel(\"PDF\")\n",
    "\n",
    "ax1.set_box_aspect(1)\n",
    "print(med_1, med_3)\n",
    "# fig.savefig(fname=\"YEAST_DMvCATH_COMMPR.svg\")\n",
    "print(f\"COMMPR Medians :: \"+ f\"DomainMapper: {med_1:4.4f}, CATH: {med_3:4.4f}\")\n"
   ]
  },
  {
   "cell_type": "code",
   "execution_count": 14,
   "metadata": {},
   "outputs": [],
   "source": [
    "yeast_rg_nc = np.load(\"yeast_nc_Rg.npy\", allow_pickle=True)\n",
    "yeast_cg3d_rg_nc = np.load(\"yeast_cg3d_nc_Rg.npy\", allow_pickle=True)\n",
    "\n",
    "yeast_rg_con = np.load(\"yeast_con_Rg.npy\", allow_pickle=True)\n",
    "yeast_cg3d_rg_con = np.load(\"yeast_cg3d_con_Rg.npy\", allow_pickle=True)"
   ]
  },
  {
   "cell_type": "code",
   "execution_count": 15,
   "metadata": {},
   "outputs": [
    {
     "name": "stdout",
     "output_type": "stream",
     "text": [
      "0.08961734334361948 0.096921696291973\n"
     ]
    },
    {
     "data": {
      "image/png": "[encoded data removed]",
      "text/plain": [
       "<Figure size 360x360 with 1 Axes>"
      ]
     },
     "metadata": {
      "needs_background": "light"
     },
     "output_type": "display_data"
    }
   ],
   "source": [
    "font = {'family' : 'arial',\n",
    "        'weight' : 'regular',\n",
    "        'size'   : 16}\n",
    "\n",
    "plt.rc('font', **font)\n",
    "plt.rc('axes', linewidth=1.5)\n",
    "plt.rc('xtick.major', width = 1.5, size=5.5)\n",
    "plt.rc('ytick.major', width = 1.5, size=5.5)\n",
    "plt.rc('ytick.minor', width = 1.5, size=2.3)\n",
    "\n",
    "plt.rcParams['svg.fonttype'] = 'none'\n",
    "\n",
    "fig, (ax1) = plt.subplots(1,figsize=(5,5))\n",
    "\n",
    "ax1.hist(yeast_rg_nc, bins=50, density=True, alpha=0.6, color=\"b\", range=(0,1), histtype=\"stepfilled\")\n",
    "ax1.hist(yeast_cg3d_rg_nc, bins=50, density=True, alpha=1, color=\"orange\", range=(0,1), histtype=\"step\", linewidth=3)\n",
    "ax1.set_xlim([0,0.5]); ax1.set_ylim([0,17])\n",
    "ax1.axvline(med_1 := np.median([n for n in yeast_rg_nc if n<1]),color=\"b\",alpha=0.6)\n",
    "ax1.axvline(med_3 := np.median([n for n in yeast_cg3d_rg_nc if n<1]),color=\"orange\",alpha=1)\n",
    "ax1.set_xlabel(\"Rg/N / Å per Residue\", family=\"arial\")\n",
    "ax1.set_ylabel(\"PDF\")\n",
    "ax1.set_yticks([0,5,10,15])\n",
    "\n",
    "ax1.set_box_aspect(1)\n",
    "print(med_1, med_3)\n",
    "\n",
    "# fig.savefig(fname=\"YEAST_DMvCATH_Rg_NC.svg\")\n",
    "print(f\"COMMPR Medians :: \"+ f\"DomainMapper: {med_1:4.4f}, CATH: {med_3:4.4f}\")\n"
   ]
  },
  {
   "cell_type": "code",
   "execution_count": 26,
   "metadata": {},
   "outputs": [
    {
     "name": "stdout",
     "output_type": "stream",
     "text": [
      "Domain Mapper: 1481\n",
      "CathGene3D: 376\n",
      "Both: 531\n",
      "\n",
      "Tot DM: 2012\n",
      "Tot CATH: 907\n"
     ]
    }
   ],
   "source": [
    "def Print_Dom_Param(domain_data, key1, key2, find):\n",
    "    for i,val in enumerate(domain_data[key1]):\n",
    "        if find in val:\n",
    "            pstr = \"\"\n",
    "            for rng in domain_data[key2][i]:\n",
    "                n,c = rng\n",
    "                pstr += f\"{n}-{c}+\"\n",
    "            print(val, pstr)\n",
    "\n",
    "dom_data = np.load(\"yeast101040_dommap_annote.npy\", allow_pickle=True).item()\n",
    "\n",
    "DOM_Only = 0\n",
    "CATH_Only = 0\n",
    "Both = 0\n",
    "\n",
    "for uniprot, domains in dom_data.items():\n",
    "    if \"ip_topology\" not in domains.keys():\n",
    "\n",
    "        # if domains[\"topology\"].count(\"NC\"):\n",
    "        #     print(uniprot, \": DM Only\")\n",
    "        #     Print_Dom_Param(domains, \"topology\", \"range\", find=\"NC\")\n",
    "\n",
    "        for topo in domains[\"topology\"]:\n",
    "            if \"NC\" in topo:\n",
    "                DOM_Only += 1\n",
    "    else:\n",
    "        if \"NC\" not in domains[\"ip_topology\"]:\n",
    "            # if domains[\"topology\"].count(\"NC\"):\n",
    "            #     print(uniprot, \": DM Only\")\n",
    "            #     Print_Dom_Param(domains, \"topology\", \"range\", find=\"NC\")\n",
    "            for topo in domains[\"topology\"]:\n",
    "                if \"NC\" in topo:\n",
    "                    DOM_Only += 1\n",
    "        \n",
    "        elif not (\"NC\" in domains[\"topology\"] or \"NC IS\" in domains[\"topology\"] or \"NC CP\" in domains[\"topology\"]):\n",
    "            # if domains[\"ip_topology\"].count(\"NC\"):\n",
    "            #     print(uniprot, \": CATH Only\")\n",
    "            #     Print_Dom_Param(domains, \"ip_topology\", \"ip_range\", find=\"NC\")\n",
    "            CATH_Only += domains[\"ip_topology\"].count(\"NC\")\n",
    "\n",
    "    if \"ip_range\" in domains.keys():\n",
    "        if (\"NC\" in domains[\"topology\"] or \"NC IS\" in domains[\"topology\"] or \"NC CP\" in domains[\"topology\"]) and \"NC\" in domains[\"ip_topology\"]:\n",
    "            DOM_NCs = 0\n",
    "            for topo in domains[\"topology\"]:\n",
    "                if \"NC\" in topo:\n",
    "                    DOM_NCs += 1\n",
    "            CATH_NCs = domains[\"ip_topology\"].count(\"NC\")\n",
    "\n",
    "            if CATH_NCs != DOM_NCs:\n",
    "                # print(uniprot, \": Both\")\n",
    "                # print(\"CATH\")\n",
    "                # Print_Dom_Param(domains, \"ip_topology\", \"ip_range\", find=\"NC\")\n",
    "                # print(\"DOMMAP\")\n",
    "                # Print_Dom_Param(domains, \"topology\", \"range\", find=\"NC\")\n",
    "\n",
    "                Both += min([DOM_NCs, CATH_NCs])\n",
    "\n",
    "                if CATH_NCs > DOM_NCs:\n",
    "                    CATH_Only += max([DOM_NCs, CATH_NCs])-min([DOM_NCs, CATH_NCs])\n",
    "                elif CATH_NCs < DOM_NCs:\n",
    "                    DOM_Only += max([DOM_NCs, CATH_NCs])-min([DOM_NCs, CATH_NCs])\n",
    "                    \n",
    "            elif CATH_NCs == DOM_NCs:\n",
    "                # print(uniprot, \": Both\")\n",
    "                # print(\"CATH\")\n",
    "                # Print_Dom_Param(domains, \"ip_topology\", \"ip_range\", find=\"NC\")\n",
    "                # print(\"DOMMAP\")\n",
    "                # Print_Dom_Param(domains, \"topology\", \"range\", find=\"NC\")\n",
    "                \n",
    "                Both += min([DOM_NCs, CATH_NCs])\n",
    "\n",
    "print(f\"Domain Mapper: {DOM_Only}\\nCathGene3D: {CATH_Only}\\nBoth: {Both}\\n\")\n",
    "\n",
    "print(f\"Tot DM: {Both+DOM_Only}\\nTot CATH: {Both+CATH_Only}\")"
   ]
  }
 ],
 "metadata": {
  "interpreter": {
   "hash": "b0fa6594d8f4cbf19f97940f81e996739fb7646882a419484c72d19e05852a7e"
  },
  "kernelspec": {
   "display_name": "Python 3.9.12 64-bit",
   "language": "python",
   "name": "python3"
  },
  "language_info": {
   "codemirror_mode": {
    "name": "ipython",
    "version": 3
   },
   "file_extension": ".py",
   "mimetype": "text/x-python",
   "name": "python",
   "nbconvert_exporter": "python",
   "pygments_lexer": "ipython3",
   "version": "3.9.12"
  },
  "orig_nbformat": 4
 },
 "nbformat": 4,
 "nbformat_minor": 2
}
